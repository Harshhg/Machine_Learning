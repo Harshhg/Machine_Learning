{
  "nbformat": 4,
  "nbformat_minor": 0,
  "metadata": {
    "colab": {
      "name": "data_cleaning(Impute,LE,OHE).ipynb",
      "version": "0.3.2",
      "provenance": [],
      "collapsed_sections": []
    },
    "kernelspec": {
      "name": "python3",
      "display_name": "Python 3"
    }
  },
  "cells": [
    {
      "cell_type": "code",
      "metadata": {
        "id": "rM2iRRrazmQa",
        "colab_type": "code",
        "colab": {}
      },
      "source": [
        "import pandas as pd"
      ],
      "execution_count": 0,
      "outputs": []
    },
    {
      "cell_type": "code",
      "metadata": {
        "id": "8-EGebx8zr_R",
        "colab_type": "code",
        "colab": {}
      },
      "source": [
        "# Reading CSV file from URL\n",
        "df=pd.read_csv('info.csv')"
      ],
      "execution_count": 0,
      "outputs": []
    },
    {
      "cell_type": "code",
      "metadata": {
        "id": "VArBX432zztV",
        "colab_type": "code",
        "colab": {
          "base_uri": "https://localhost:8080/",
          "height": 168
        },
        "outputId": "559b7fdf-dd8f-4c5e-ad30-aa866c73a2d2"
      },
      "source": [
        "df.info()"
      ],
      "execution_count": 3,
      "outputs": [
        {
          "output_type": "stream",
          "text": [
            "<class 'pandas.core.frame.DataFrame'>\n",
            "RangeIndex: 10 entries, 0 to 9\n",
            "Data columns (total 4 columns):\n",
            "Country      10 non-null object\n",
            "Age          9 non-null float64\n",
            "Salary       9 non-null float64\n",
            "Purchased    10 non-null object\n",
            "dtypes: float64(2), object(2)\n",
            "memory usage: 400.0+ bytes\n"
          ],
          "name": "stdout"
        }
      ]
    },
    {
      "cell_type": "code",
      "metadata": {
        "id": "fUygZ1TD0Axn",
        "colab_type": "code",
        "colab": {
          "base_uri": "https://localhost:8080/",
          "height": 343
        },
        "outputId": "377dcd53-847e-4598-ad24-efff6394782d"
      },
      "source": [
        "df"
      ],
      "execution_count": 4,
      "outputs": [
        {
          "output_type": "execute_result",
          "data": {
            "text/html": [
              "<div>\n",
              "<style scoped>\n",
              "    .dataframe tbody tr th:only-of-type {\n",
              "        vertical-align: middle;\n",
              "    }\n",
              "\n",
              "    .dataframe tbody tr th {\n",
              "        vertical-align: top;\n",
              "    }\n",
              "\n",
              "    .dataframe thead th {\n",
              "        text-align: right;\n",
              "    }\n",
              "</style>\n",
              "<table border=\"1\" class=\"dataframe\">\n",
              "  <thead>\n",
              "    <tr style=\"text-align: right;\">\n",
              "      <th></th>\n",
              "      <th>Country</th>\n",
              "      <th>Age</th>\n",
              "      <th>Salary</th>\n",
              "      <th>Purchased</th>\n",
              "    </tr>\n",
              "  </thead>\n",
              "  <tbody>\n",
              "    <tr>\n",
              "      <th>0</th>\n",
              "      <td>France</td>\n",
              "      <td>44.0</td>\n",
              "      <td>72000.0</td>\n",
              "      <td>No</td>\n",
              "    </tr>\n",
              "    <tr>\n",
              "      <th>1</th>\n",
              "      <td>Spain</td>\n",
              "      <td>27.0</td>\n",
              "      <td>48000.0</td>\n",
              "      <td>Yes</td>\n",
              "    </tr>\n",
              "    <tr>\n",
              "      <th>2</th>\n",
              "      <td>Germany</td>\n",
              "      <td>30.0</td>\n",
              "      <td>54000.0</td>\n",
              "      <td>No</td>\n",
              "    </tr>\n",
              "    <tr>\n",
              "      <th>3</th>\n",
              "      <td>Spain</td>\n",
              "      <td>38.0</td>\n",
              "      <td>61000.0</td>\n",
              "      <td>No</td>\n",
              "    </tr>\n",
              "    <tr>\n",
              "      <th>4</th>\n",
              "      <td>Germany</td>\n",
              "      <td>40.0</td>\n",
              "      <td>NaN</td>\n",
              "      <td>Yes</td>\n",
              "    </tr>\n",
              "    <tr>\n",
              "      <th>5</th>\n",
              "      <td>France</td>\n",
              "      <td>35.0</td>\n",
              "      <td>58000.0</td>\n",
              "      <td>Yes</td>\n",
              "    </tr>\n",
              "    <tr>\n",
              "      <th>6</th>\n",
              "      <td>Spain</td>\n",
              "      <td>NaN</td>\n",
              "      <td>52000.0</td>\n",
              "      <td>No</td>\n",
              "    </tr>\n",
              "    <tr>\n",
              "      <th>7</th>\n",
              "      <td>France</td>\n",
              "      <td>48.0</td>\n",
              "      <td>79000.0</td>\n",
              "      <td>Yes</td>\n",
              "    </tr>\n",
              "    <tr>\n",
              "      <th>8</th>\n",
              "      <td>Germany</td>\n",
              "      <td>50.0</td>\n",
              "      <td>83000.0</td>\n",
              "      <td>No</td>\n",
              "    </tr>\n",
              "    <tr>\n",
              "      <th>9</th>\n",
              "      <td>France</td>\n",
              "      <td>37.0</td>\n",
              "      <td>67000.0</td>\n",
              "      <td>Yes</td>\n",
              "    </tr>\n",
              "  </tbody>\n",
              "</table>\n",
              "</div>"
            ],
            "text/plain": [
              "   Country   Age   Salary Purchased\n",
              "0   France  44.0  72000.0        No\n",
              "1    Spain  27.0  48000.0       Yes\n",
              "2  Germany  30.0  54000.0        No\n",
              "3    Spain  38.0  61000.0        No\n",
              "4  Germany  40.0      NaN       Yes\n",
              "5   France  35.0  58000.0       Yes\n",
              "6    Spain   NaN  52000.0        No\n",
              "7   France  48.0  79000.0       Yes\n",
              "8  Germany  50.0  83000.0        No\n",
              "9   France  37.0  67000.0       Yes"
            ]
          },
          "metadata": {
            "tags": []
          },
          "execution_count": 4
        }
      ]
    },
    {
      "cell_type": "code",
      "metadata": {
        "id": "6lHuSSZ-0JWG",
        "colab_type": "code",
        "colab": {
          "base_uri": "https://localhost:8080/",
          "height": 284
        },
        "outputId": "80be0943-6ffe-4b65-8000-e6a174212cf9"
      },
      "source": [
        "# To get description about columns like mean, min, max...\n",
        "df.describe()"
      ],
      "execution_count": 5,
      "outputs": [
        {
          "output_type": "execute_result",
          "data": {
            "text/html": [
              "<div>\n",
              "<style scoped>\n",
              "    .dataframe tbody tr th:only-of-type {\n",
              "        vertical-align: middle;\n",
              "    }\n",
              "\n",
              "    .dataframe tbody tr th {\n",
              "        vertical-align: top;\n",
              "    }\n",
              "\n",
              "    .dataframe thead th {\n",
              "        text-align: right;\n",
              "    }\n",
              "</style>\n",
              "<table border=\"1\" class=\"dataframe\">\n",
              "  <thead>\n",
              "    <tr style=\"text-align: right;\">\n",
              "      <th></th>\n",
              "      <th>Age</th>\n",
              "      <th>Salary</th>\n",
              "    </tr>\n",
              "  </thead>\n",
              "  <tbody>\n",
              "    <tr>\n",
              "      <th>count</th>\n",
              "      <td>9.000000</td>\n",
              "      <td>9.000000</td>\n",
              "    </tr>\n",
              "    <tr>\n",
              "      <th>mean</th>\n",
              "      <td>38.777778</td>\n",
              "      <td>63777.777778</td>\n",
              "    </tr>\n",
              "    <tr>\n",
              "      <th>std</th>\n",
              "      <td>7.693793</td>\n",
              "      <td>12265.579662</td>\n",
              "    </tr>\n",
              "    <tr>\n",
              "      <th>min</th>\n",
              "      <td>27.000000</td>\n",
              "      <td>48000.000000</td>\n",
              "    </tr>\n",
              "    <tr>\n",
              "      <th>25%</th>\n",
              "      <td>35.000000</td>\n",
              "      <td>54000.000000</td>\n",
              "    </tr>\n",
              "    <tr>\n",
              "      <th>50%</th>\n",
              "      <td>38.000000</td>\n",
              "      <td>61000.000000</td>\n",
              "    </tr>\n",
              "    <tr>\n",
              "      <th>75%</th>\n",
              "      <td>44.000000</td>\n",
              "      <td>72000.000000</td>\n",
              "    </tr>\n",
              "    <tr>\n",
              "      <th>max</th>\n",
              "      <td>50.000000</td>\n",
              "      <td>83000.000000</td>\n",
              "    </tr>\n",
              "  </tbody>\n",
              "</table>\n",
              "</div>"
            ],
            "text/plain": [
              "             Age        Salary\n",
              "count   9.000000      9.000000\n",
              "mean   38.777778  63777.777778\n",
              "std     7.693793  12265.579662\n",
              "min    27.000000  48000.000000\n",
              "25%    35.000000  54000.000000\n",
              "50%    38.000000  61000.000000\n",
              "75%    44.000000  72000.000000\n",
              "max    50.000000  83000.000000"
            ]
          },
          "metadata": {
            "tags": []
          },
          "execution_count": 5
        }
      ]
    },
    {
      "cell_type": "code",
      "metadata": {
        "id": "LBeVBt1J2p8-",
        "colab_type": "code",
        "colab": {}
      },
      "source": [
        "x=df.iloc[:,0:4].values"
      ],
      "execution_count": 0,
      "outputs": []
    },
    {
      "cell_type": "markdown",
      "metadata": {
        "id": "_DSiQbwVGR3x",
        "colab_type": "text"
      },
      "source": [
        "***IMPUTATION***"
      ]
    },
    {
      "cell_type": "code",
      "metadata": {
        "id": "G-E5DxOt0wPA",
        "colab_type": "code",
        "colab": {}
      },
      "source": [
        "# Removing missing values or replacing missing value with some relevant data we use IMPUTER\n",
        "from sklearn.preprocessing import Imputer"
      ],
      "execution_count": 0,
      "outputs": []
    },
    {
      "cell_type": "code",
      "metadata": {
        "id": "m51Ht-f20-Oz",
        "colab_type": "code",
        "colab": {
          "base_uri": "https://localhost:8080/",
          "height": 70
        },
        "outputId": "1a303239-8afa-4daa-f39c-94e90e805563"
      },
      "source": [
        "imp=Imputer(missing_values='NaN',axis=0,strategy='most_frequent')     # axis=0 - Check column wise. # strategy='mean/min/max' - replace the missing value with the mean."
      ],
      "execution_count": 8,
      "outputs": [
        {
          "output_type": "stream",
          "text": [
            "/usr/local/lib/python3.6/dist-packages/sklearn/utils/deprecation.py:66: DeprecationWarning: Class Imputer is deprecated; Imputer was deprecated in version 0.20 and will be removed in 0.22. Import impute.SimpleImputer from sklearn instead.\n",
            "  warnings.warn(msg, category=DeprecationWarning)\n"
          ],
          "name": "stderr"
        }
      ]
    },
    {
      "cell_type": "code",
      "metadata": {
        "id": "wzPHCaA11rZC",
        "colab_type": "code",
        "colab": {}
      },
      "source": [
        "impute=imp.fit(x[:,1:3])    # This is only fitting of columns that we want to process"
      ],
      "execution_count": 0,
      "outputs": []
    },
    {
      "cell_type": "code",
      "metadata": {
        "id": "TVrJDhr72Reh",
        "colab_type": "code",
        "colab": {
          "base_uri": "https://localhost:8080/",
          "height": 185
        },
        "outputId": "bfe36113-6004-4606-f0d6-ae4a7d0e321f"
      },
      "source": [
        "# Now time for transforming the fitted columns\n",
        "x[:,1:3]=impute.transform(x[:,1:3])    # also replacing the missing values\n",
        "x"
      ],
      "execution_count": 10,
      "outputs": [
        {
          "output_type": "execute_result",
          "data": {
            "text/plain": [
              "array([['France', 44.0, 72000.0, 'No'],\n",
              "       ['Spain', 27.0, 48000.0, 'Yes'],\n",
              "       ['Germany', 30.0, 54000.0, 'No'],\n",
              "       ['Spain', 38.0, 61000.0, 'No'],\n",
              "       ['Germany', 40.0, 48000.0, 'Yes'],\n",
              "       ['France', 35.0, 58000.0, 'Yes'],\n",
              "       ['Spain', 27.0, 52000.0, 'No'],\n",
              "       ['France', 48.0, 79000.0, 'Yes'],\n",
              "       ['Germany', 50.0, 83000.0, 'No'],\n",
              "       ['France', 37.0, 67000.0, 'Yes']], dtype=object)"
            ]
          },
          "metadata": {
            "tags": []
          },
          "execution_count": 10
        }
      ]
    },
    {
      "cell_type": "markdown",
      "metadata": {
        "id": "Ghw49oq4GBaG",
        "colab_type": "text"
      },
      "source": [
        "***LABEL ENCODING (LE)***"
      ]
    },
    {
      "cell_type": "code",
      "metadata": {
        "id": "HSYjd3Oj3AEw",
        "colab_type": "code",
        "colab": {}
      },
      "source": [
        "# Labelling the string type of data into INT/FLOAT , because classifier requires int/float values\n",
        "from sklearn.preprocessing import LabelEncoder\n",
        "cont=LabelEncoder()   # This is for labelling the country column"
      ],
      "execution_count": 0,
      "outputs": []
    },
    {
      "cell_type": "code",
      "metadata": {
        "id": "YGJUit3t4o1E",
        "colab_type": "code",
        "colab": {
          "base_uri": "https://localhost:8080/",
          "height": 185
        },
        "outputId": "5c3bae97-890e-4f1d-f837-e18843db8ddc"
      },
      "source": [
        "# Now Applying the column to the LabelEncoder ( Here Country column)\n",
        "x[:,0]=cont.fit_transform(x[:,0])\n",
        "x"
      ],
      "execution_count": 12,
      "outputs": [
        {
          "output_type": "execute_result",
          "data": {
            "text/plain": [
              "array([[0, 44.0, 72000.0, 'No'],\n",
              "       [2, 27.0, 48000.0, 'Yes'],\n",
              "       [1, 30.0, 54000.0, 'No'],\n",
              "       [2, 38.0, 61000.0, 'No'],\n",
              "       [1, 40.0, 48000.0, 'Yes'],\n",
              "       [0, 35.0, 58000.0, 'Yes'],\n",
              "       [2, 27.0, 52000.0, 'No'],\n",
              "       [0, 48.0, 79000.0, 'Yes'],\n",
              "       [1, 50.0, 83000.0, 'No'],\n",
              "       [0, 37.0, 67000.0, 'Yes']], dtype=object)"
            ]
          },
          "metadata": {
            "tags": []
          },
          "execution_count": 12
        }
      ]
    },
    {
      "cell_type": "code",
      "metadata": {
        "id": "EZHRp59C7Io_",
        "colab_type": "code",
        "colab": {
          "base_uri": "https://localhost:8080/",
          "height": 185
        },
        "outputId": "39c08461-4661-4aff-c23c-0df802b52f30"
      },
      "source": [
        "purchase=LabelEncoder()\n",
        "x[:,3]=purchase.fit_transform(x[:,3])\n",
        "x"
      ],
      "execution_count": 13,
      "outputs": [
        {
          "output_type": "execute_result",
          "data": {
            "text/plain": [
              "array([[0, 44.0, 72000.0, 0],\n",
              "       [2, 27.0, 48000.0, 1],\n",
              "       [1, 30.0, 54000.0, 0],\n",
              "       [2, 38.0, 61000.0, 0],\n",
              "       [1, 40.0, 48000.0, 1],\n",
              "       [0, 35.0, 58000.0, 1],\n",
              "       [2, 27.0, 52000.0, 0],\n",
              "       [0, 48.0, 79000.0, 1],\n",
              "       [1, 50.0, 83000.0, 0],\n",
              "       [0, 37.0, 67000.0, 1]], dtype=object)"
            ]
          },
          "metadata": {
            "tags": []
          },
          "execution_count": 13
        }
      ]
    },
    {
      "cell_type": "markdown",
      "metadata": {
        "id": "ON8HPBE_GYVQ",
        "colab_type": "text"
      },
      "source": [
        "***ONE HOT ENCODING (OHE)***"
      ]
    },
    {
      "cell_type": "code",
      "metadata": {
        "id": "8b0kGzsj8ENu",
        "colab_type": "code",
        "colab": {}
      },
      "source": [
        "# --------Feature Scaling ---------\n",
        "# Now enecoding first column  -- making subcolumns of first column..\n",
        "# Why we do this :-  because while applying KNN like algorithm if we convert some value into number like country in 0,1,2... \n",
        "#      so in this case while calculating distance (x^2-x^1) if x=0 then machine will assume that x has no value, this will impact the model..\n",
        "\n",
        "from sklearn.preprocessing import OneHotEncoder"
      ],
      "execution_count": 0,
      "outputs": []
    },
    {
      "cell_type": "code",
      "metadata": {
        "id": "AQAdzqHpCLGx",
        "colab_type": "code",
        "colab": {}
      },
      "source": [
        "# Defining exact column number where we want to make category\n",
        "firstclm = OneHotEncoder(categorical_features=[0])  # 0 - The column where to apply"
      ],
      "execution_count": 0,
      "outputs": []
    },
    {
      "cell_type": "code",
      "metadata": {
        "id": "83kdU3KvCMm1",
        "colab_type": "code",
        "colab": {
          "base_uri": "https://localhost:8080/",
          "height": 306
        },
        "outputId": "8d2227ec-3d68-4f36-92ae-00aa13241cf6"
      },
      "source": [
        "x=firstclm.fit_transform(x).toarray()    # After Transformation we need to convert into numpy array\n",
        "x"
      ],
      "execution_count": 16,
      "outputs": [
        {
          "output_type": "stream",
          "text": [
            "/usr/local/lib/python3.6/dist-packages/sklearn/preprocessing/_encoders.py:415: FutureWarning: The handling of integer data will change in version 0.22. Currently, the categories are determined based on the range [0, max(values)], while in the future they will be determined based on the unique values.\n",
            "If you want the future behaviour and silence this warning, you can specify \"categories='auto'\".\n",
            "In case you used a LabelEncoder before this OneHotEncoder to convert the categories to integers, then you can now use the OneHotEncoder directly.\n",
            "  warnings.warn(msg, FutureWarning)\n",
            "/usr/local/lib/python3.6/dist-packages/sklearn/preprocessing/_encoders.py:451: DeprecationWarning: The 'categorical_features' keyword is deprecated in version 0.20 and will be removed in 0.22. You can use the ColumnTransformer instead.\n",
            "  \"use the ColumnTransformer instead.\", DeprecationWarning)\n"
          ],
          "name": "stderr"
        },
        {
          "output_type": "execute_result",
          "data": {
            "text/plain": [
              "array([[1.0e+00, 0.0e+00, 0.0e+00, 4.4e+01, 7.2e+04, 0.0e+00],\n",
              "       [0.0e+00, 0.0e+00, 1.0e+00, 2.7e+01, 4.8e+04, 1.0e+00],\n",
              "       [0.0e+00, 1.0e+00, 0.0e+00, 3.0e+01, 5.4e+04, 0.0e+00],\n",
              "       [0.0e+00, 0.0e+00, 1.0e+00, 3.8e+01, 6.1e+04, 0.0e+00],\n",
              "       [0.0e+00, 1.0e+00, 0.0e+00, 4.0e+01, 4.8e+04, 1.0e+00],\n",
              "       [1.0e+00, 0.0e+00, 0.0e+00, 3.5e+01, 5.8e+04, 1.0e+00],\n",
              "       [0.0e+00, 0.0e+00, 1.0e+00, 2.7e+01, 5.2e+04, 0.0e+00],\n",
              "       [1.0e+00, 0.0e+00, 0.0e+00, 4.8e+01, 7.9e+04, 1.0e+00],\n",
              "       [0.0e+00, 1.0e+00, 0.0e+00, 5.0e+01, 8.3e+04, 0.0e+00],\n",
              "       [1.0e+00, 0.0e+00, 0.0e+00, 3.7e+01, 6.7e+04, 1.0e+00]])"
            ]
          },
          "metadata": {
            "tags": []
          },
          "execution_count": 16
        }
      ]
    },
    {
      "cell_type": "code",
      "metadata": {
        "id": "5l2Oj30PDBfh",
        "colab_type": "code",
        "colab": {
          "base_uri": "https://localhost:8080/",
          "height": 185
        },
        "outputId": "cd370ce4-7875-48e6-a797-25f5c037e7b3"
      },
      "source": [
        "x.astype(int)    # To display in integer only."
      ],
      "execution_count": 17,
      "outputs": [
        {
          "output_type": "execute_result",
          "data": {
            "text/plain": [
              "array([[    1,     0,     0,    44, 72000,     0],\n",
              "       [    0,     0,     1,    27, 48000,     1],\n",
              "       [    0,     1,     0,    30, 54000,     0],\n",
              "       [    0,     0,     1,    38, 61000,     0],\n",
              "       [    0,     1,     0,    40, 48000,     1],\n",
              "       [    1,     0,     0,    35, 58000,     1],\n",
              "       [    0,     0,     1,    27, 52000,     0],\n",
              "       [    1,     0,     0,    48, 79000,     1],\n",
              "       [    0,     1,     0,    50, 83000,     0],\n",
              "       [    1,     0,     0,    37, 67000,     1]])"
            ]
          },
          "metadata": {
            "tags": []
          },
          "execution_count": 17
        }
      ]
    },
    {
      "cell_type": "code",
      "metadata": {
        "id": "KMznzJ__EVKd",
        "colab_type": "code",
        "colab": {}
      },
      "source": [
        ""
      ],
      "execution_count": 0,
      "outputs": []
    }
  ]
}