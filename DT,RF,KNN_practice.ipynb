{
  "nbformat": 4,
  "nbformat_minor": 0,
  "metadata": {
    "colab": {
      "name": "DT,RF,KNN_practice.ipynb",
      "version": "0.3.2",
      "provenance": [],
      "collapsed_sections": []
    },
    "kernelspec": {
      "name": "python3",
      "display_name": "Python 3"
    }
  },
  "cells": [
    {
      "cell_type": "code",
      "metadata": {
        "id": "FGw3ZThNo1R_",
        "colab_type": "code",
        "colab": {}
      },
      "source": [
        "import matplotlib.pyplot as plt\n",
        "import pandas as pd"
      ],
      "execution_count": 0,
      "outputs": []
    },
    {
      "cell_type": "code",
      "metadata": {
        "id": "4Ue8-eWSo4dQ",
        "colab_type": "code",
        "colab": {
          "base_uri": "https://localhost:8080/",
          "height": 218
        },
        "outputId": "4fe983f6-2a89-4866-f554-e6cde9406ce3"
      },
      "source": [
        "df=pd.read_csv('employee_data.csv')\n",
        "df.info()"
      ],
      "execution_count": 129,
      "outputs": [
        {
          "output_type": "stream",
          "text": [
            "<class 'pandas.core.frame.DataFrame'>\n",
            "RangeIndex: 1000 entries, 0 to 999\n",
            "Data columns (total 7 columns):\n",
            "Unnamed: 0          1000 non-null int64\n",
            "id                  1000 non-null int64\n",
            "groups              1000 non-null object\n",
            "age                 1000 non-null int64\n",
            "healthy_eating      1000 non-null int64\n",
            "active_lifestyle    1000 non-null int64\n",
            "salary              1000 non-null int64\n",
            "dtypes: int64(6), object(1)\n",
            "memory usage: 54.8+ KB\n"
          ],
          "name": "stdout"
        }
      ]
    },
    {
      "cell_type": "code",
      "metadata": {
        "id": "SMYnTizlpi_g",
        "colab_type": "code",
        "outputId": "650666d3-904c-4f4e-f0a8-a82b80602a74",
        "colab": {
          "base_uri": "https://localhost:8080/",
          "height": 195
        }
      },
      "source": [
        "df.head(5)"
      ],
      "execution_count": 130,
      "outputs": [
        {
          "output_type": "execute_result",
          "data": {
            "text/html": [
              "<div>\n",
              "<style scoped>\n",
              "    .dataframe tbody tr th:only-of-type {\n",
              "        vertical-align: middle;\n",
              "    }\n",
              "\n",
              "    .dataframe tbody tr th {\n",
              "        vertical-align: top;\n",
              "    }\n",
              "\n",
              "    .dataframe thead th {\n",
              "        text-align: right;\n",
              "    }\n",
              "</style>\n",
              "<table border=\"1\" class=\"dataframe\">\n",
              "  <thead>\n",
              "    <tr style=\"text-align: right;\">\n",
              "      <th></th>\n",
              "      <th>Unnamed: 0</th>\n",
              "      <th>id</th>\n",
              "      <th>groups</th>\n",
              "      <th>age</th>\n",
              "      <th>healthy_eating</th>\n",
              "      <th>active_lifestyle</th>\n",
              "      <th>salary</th>\n",
              "    </tr>\n",
              "  </thead>\n",
              "  <tbody>\n",
              "    <tr>\n",
              "      <th>0</th>\n",
              "      <td>0</td>\n",
              "      <td>0</td>\n",
              "      <td>A</td>\n",
              "      <td>36</td>\n",
              "      <td>5</td>\n",
              "      <td>5</td>\n",
              "      <td>2297</td>\n",
              "    </tr>\n",
              "    <tr>\n",
              "      <th>1</th>\n",
              "      <td>1</td>\n",
              "      <td>1</td>\n",
              "      <td>A</td>\n",
              "      <td>55</td>\n",
              "      <td>3</td>\n",
              "      <td>5</td>\n",
              "      <td>1134</td>\n",
              "    </tr>\n",
              "    <tr>\n",
              "      <th>2</th>\n",
              "      <td>2</td>\n",
              "      <td>2</td>\n",
              "      <td>A</td>\n",
              "      <td>61</td>\n",
              "      <td>8</td>\n",
              "      <td>1</td>\n",
              "      <td>4969</td>\n",
              "    </tr>\n",
              "    <tr>\n",
              "      <th>3</th>\n",
              "      <td>3</td>\n",
              "      <td>3</td>\n",
              "      <td>O</td>\n",
              "      <td>29</td>\n",
              "      <td>3</td>\n",
              "      <td>6</td>\n",
              "      <td>902</td>\n",
              "    </tr>\n",
              "    <tr>\n",
              "      <th>4</th>\n",
              "      <td>4</td>\n",
              "      <td>4</td>\n",
              "      <td>O</td>\n",
              "      <td>34</td>\n",
              "      <td>6</td>\n",
              "      <td>2</td>\n",
              "      <td>3574</td>\n",
              "    </tr>\n",
              "  </tbody>\n",
              "</table>\n",
              "</div>"
            ],
            "text/plain": [
              "   Unnamed: 0  id groups  age  healthy_eating  active_lifestyle  salary\n",
              "0           0   0      A   36               5                 5    2297\n",
              "1           1   1      A   55               3                 5    1134\n",
              "2           2   2      A   61               8                 1    4969\n",
              "3           3   3      O   29               3                 6     902\n",
              "4           4   4      O   34               6                 2    3574"
            ]
          },
          "metadata": {
            "tags": []
          },
          "execution_count": 130
        }
      ]
    },
    {
      "cell_type": "code",
      "metadata": {
        "id": "uMXbMNQMvVst",
        "colab_type": "code",
        "colab": {
          "base_uri": "https://localhost:8080/",
          "height": 166
        },
        "outputId": "35cb09ad-1d04-4404-cad6-a5af17567f62"
      },
      "source": [
        "df.iloc[0:,2:].head(4)"
      ],
      "execution_count": 131,
      "outputs": [
        {
          "output_type": "execute_result",
          "data": {
            "text/html": [
              "<div>\n",
              "<style scoped>\n",
              "    .dataframe tbody tr th:only-of-type {\n",
              "        vertical-align: middle;\n",
              "    }\n",
              "\n",
              "    .dataframe tbody tr th {\n",
              "        vertical-align: top;\n",
              "    }\n",
              "\n",
              "    .dataframe thead th {\n",
              "        text-align: right;\n",
              "    }\n",
              "</style>\n",
              "<table border=\"1\" class=\"dataframe\">\n",
              "  <thead>\n",
              "    <tr style=\"text-align: right;\">\n",
              "      <th></th>\n",
              "      <th>groups</th>\n",
              "      <th>age</th>\n",
              "      <th>healthy_eating</th>\n",
              "      <th>active_lifestyle</th>\n",
              "      <th>salary</th>\n",
              "    </tr>\n",
              "  </thead>\n",
              "  <tbody>\n",
              "    <tr>\n",
              "      <th>0</th>\n",
              "      <td>A</td>\n",
              "      <td>36</td>\n",
              "      <td>5</td>\n",
              "      <td>5</td>\n",
              "      <td>2297</td>\n",
              "    </tr>\n",
              "    <tr>\n",
              "      <th>1</th>\n",
              "      <td>A</td>\n",
              "      <td>55</td>\n",
              "      <td>3</td>\n",
              "      <td>5</td>\n",
              "      <td>1134</td>\n",
              "    </tr>\n",
              "    <tr>\n",
              "      <th>2</th>\n",
              "      <td>A</td>\n",
              "      <td>61</td>\n",
              "      <td>8</td>\n",
              "      <td>1</td>\n",
              "      <td>4969</td>\n",
              "    </tr>\n",
              "    <tr>\n",
              "      <th>3</th>\n",
              "      <td>O</td>\n",
              "      <td>29</td>\n",
              "      <td>3</td>\n",
              "      <td>6</td>\n",
              "      <td>902</td>\n",
              "    </tr>\n",
              "  </tbody>\n",
              "</table>\n",
              "</div>"
            ],
            "text/plain": [
              "  groups  age  healthy_eating  active_lifestyle  salary\n",
              "0      A   36               5                 5    2297\n",
              "1      A   55               3                 5    1134\n",
              "2      A   61               8                 1    4969\n",
              "3      O   29               3                 6     902"
            ]
          },
          "metadata": {
            "tags": []
          },
          "execution_count": 131
        }
      ]
    },
    {
      "cell_type": "code",
      "metadata": {
        "id": "ANNuC0Jvv2E2",
        "colab_type": "code",
        "outputId": "759f49c0-1ca5-41a3-d03d-2fee9ec1df83",
        "colab": {
          "base_uri": "https://localhost:8080/",
          "height": 134
        }
      },
      "source": [
        "features=df.iloc[:,2:6].values\n",
        "features"
      ],
      "execution_count": 132,
      "outputs": [
        {
          "output_type": "execute_result",
          "data": {
            "text/plain": [
              "array([['A', 36, 5, 5],\n",
              "       ['A', 55, 3, 5],\n",
              "       ['A', 61, 8, 1],\n",
              "       ...,\n",
              "       ['O', 49, 9, 7],\n",
              "       ['AB', 56, 6, 7],\n",
              "       ['B', 64, 4, 9]], dtype=object)"
            ]
          },
          "metadata": {
            "tags": []
          },
          "execution_count": 132
        }
      ]
    },
    {
      "cell_type": "code",
      "metadata": {
        "id": "pGT_Kaptv9ud",
        "colab_type": "code",
        "colab": {}
      },
      "source": [
        "label=df.iloc[:,6].values\n",
        "label"
      ],
      "execution_count": 0,
      "outputs": []
    },
    {
      "cell_type": "code",
      "metadata": {
        "id": "7DafOY_AwRUA",
        "colab_type": "code",
        "colab": {}
      },
      "source": [
        "# Label Encoding the blood group\n",
        "from sklearn.preprocessing import LabelEncoder"
      ],
      "execution_count": 0,
      "outputs": []
    },
    {
      "cell_type": "code",
      "metadata": {
        "id": "YW_ppF8zkquC",
        "colab_type": "code",
        "colab": {}
      },
      "source": [
        "le=LabelEncoder()"
      ],
      "execution_count": 0,
      "outputs": []
    },
    {
      "cell_type": "code",
      "metadata": {
        "id": "_gm1dcoswxNg",
        "colab_type": "code",
        "colab": {
          "base_uri": "https://localhost:8080/",
          "height": 134
        },
        "outputId": "81e0c56f-21ec-48c1-de76-f7ca7ac8704c"
      },
      "source": [
        "features[:,0] = le.fit_transform(features[:,0])\n",
        "print(features)"
      ],
      "execution_count": 136,
      "outputs": [
        {
          "output_type": "stream",
          "text": [
            "[[0 36 5 5]\n",
            " [0 55 3 5]\n",
            " [0 61 8 1]\n",
            " ...\n",
            " [3 49 9 7]\n",
            " [1 56 6 7]\n",
            " [2 64 4 9]]\n"
          ],
          "name": "stdout"
        }
      ]
    },
    {
      "cell_type": "code",
      "metadata": {
        "id": "9YdQqZz0wzqq",
        "colab_type": "code",
        "colab": {}
      },
      "source": [
        "# Splitting the data into training and testing\n",
        "from sklearn.model_selection import train_test_split\n",
        "train_data,test_data,train_label,test_label =  train_test_split(features,label,test_size=0.1)\n"
      ],
      "execution_count": 0,
      "outputs": []
    },
    {
      "cell_type": "code",
      "metadata": {
        "id": "PZzeAS2cyHPL",
        "colab_type": "code",
        "colab": {}
      },
      "source": [
        "from sklearn.tree import DecisionTreeClassifier\n",
        "clf=DecisionTreeClassifier()"
      ],
      "execution_count": 0,
      "outputs": []
    },
    {
      "cell_type": "code",
      "metadata": {
        "id": "3-NeI-HjyX4-",
        "colab_type": "code",
        "colab": {}
      },
      "source": [
        "trained=clf.fit(train_data,train_label)"
      ],
      "execution_count": 0,
      "outputs": []
    },
    {
      "cell_type": "code",
      "metadata": {
        "id": "eS46TDbSyrIX",
        "colab_type": "code",
        "colab": {}
      },
      "source": [
        "predicted=trained.predict(test_data)"
      ],
      "execution_count": 0,
      "outputs": []
    },
    {
      "cell_type": "code",
      "metadata": {
        "id": "kH7imU2yzFTn",
        "colab_type": "code",
        "colab": {
          "base_uri": "https://localhost:8080/",
          "height": 185
        },
        "outputId": "b1cd462b-0956-424e-d300-a96acc15b644"
      },
      "source": [
        "predicted"
      ],
      "execution_count": 141,
      "outputs": [
        {
          "output_type": "execute_result",
          "data": {
            "text/plain": [
              "array([2643, 3342, 3577, 1484, 2297, 2996, 2414,  902,  896, 2414, 1718,\n",
              "       3228, 3460, 2065, 1017, 2646,  902,  553, 4622,  788, 3345,  902,\n",
              "       4390, 3345, 3809, 2297, 1598, 2646, 3457, 2065, 2174, 1948, 1366,\n",
              "       1369, 1128, 2996,  553, 1369, 3809, 2878, 1369, 1017, 1484, 4387,\n",
              "        662, 1017, 1710, 3228,  553, 1484, 1475, 3342, 1833, 1950, 2646,\n",
              "       2878, 2878, 1833, 2643, 3228, 3806, 5550, 1598, 3113, 1252, 3228,\n",
              "       1833, 1484, 3113, 4390, 3809, 2179, 3809, 2996, 1598, 2646, 4273,\n",
              "       1134, 1948, 3228, 1243, 1833, 2297, 2643, 2062, 1246, 2878, 3345,\n",
              "       3342, 4622, 1252, 2297, 1824, 2182,  662, 3923, 4969, 4505, 2414,\n",
              "       2529])"
            ]
          },
          "metadata": {
            "tags": []
          },
          "execution_count": 141
        }
      ]
    },
    {
      "cell_type": "code",
      "metadata": {
        "id": "vBT4l01TzGIQ",
        "colab_type": "code",
        "colab": {
          "base_uri": "https://localhost:8080/",
          "height": 185
        },
        "outputId": "a68aecd8-62ac-4c0f-a799-fcc47317687b"
      },
      "source": [
        "test_label"
      ],
      "execution_count": 142,
      "outputs": [
        {
          "output_type": "execute_result",
          "data": {
            "text/plain": [
              "array([2643, 3342, 3577, 1484, 2297, 2996, 2414,  902,  896, 2414, 1718,\n",
              "       3228, 3460, 2065,  665, 2646,  902,  553, 4622,  788, 3345,  902,\n",
              "       4390, 3345, 3809, 2297, 1598, 2646, 3225, 2065, 2174, 1948, 1366,\n",
              "       1369, 1128, 2996,  553, 1369, 3809, 2878, 1369, 1017, 1484, 4387,\n",
              "        662, 1017, 1710, 3228,  553, 1484, 1475, 3342, 1833, 1950, 2646,\n",
              "       2878, 2878, 1833, 2643, 3228, 3806, 5318, 1598, 3113, 1252, 3228,\n",
              "       1833, 1484, 3113, 4390, 3809, 2179, 3809, 2996, 1598, 2646, 4273,\n",
              "       1134, 1948, 3228, 1243, 1833, 2297, 2643, 2062, 1017, 2878, 3345,\n",
              "       3342, 4622, 1252, 2297, 1824, 2182,  662, 3923, 4969, 4505, 2414,\n",
              "       2529])"
            ]
          },
          "metadata": {
            "tags": []
          },
          "execution_count": 142
        }
      ]
    },
    {
      "cell_type": "code",
      "metadata": {
        "id": "E465Fcz1zIPI",
        "colab_type": "code",
        "colab": {
          "base_uri": "https://localhost:8080/",
          "height": 34
        },
        "outputId": "6f08f941-bfcc-466e-89c1-871112dded85"
      },
      "source": [
        "from sklearn.metrics import accuracy_score\n",
        "accuracy_score(predicted,test_label)"
      ],
      "execution_count": 143,
      "outputs": [
        {
          "output_type": "execute_result",
          "data": {
            "text/plain": [
              "0.96"
            ]
          },
          "metadata": {
            "tags": []
          },
          "execution_count": 143
        }
      ]
    },
    {
      "cell_type": "markdown",
      "metadata": {
        "id": "iSDzTWuq0vbc",
        "colab_type": "text"
      },
      "source": [
        "RANDOM FOREST CLASSIFIER\n"
      ]
    },
    {
      "cell_type": "code",
      "metadata": {
        "id": "OclAknZT003l",
        "colab_type": "code",
        "colab": {}
      },
      "source": [
        "from sklearn.ensemble import RandomForestClassifier\n",
        "rclf=RandomForestClassifier(n_estimators=10)"
      ],
      "execution_count": 0,
      "outputs": []
    },
    {
      "cell_type": "code",
      "metadata": {
        "id": "8rrUebL106PW",
        "colab_type": "code",
        "colab": {}
      },
      "source": [
        "trained=rclf.fit(train_data,train_label)"
      ],
      "execution_count": 0,
      "outputs": []
    },
    {
      "cell_type": "code",
      "metadata": {
        "id": "txE3q75y1CjU",
        "colab_type": "code",
        "colab": {}
      },
      "source": [
        "\n",
        "predicted=trained.predict(test_data)"
      ],
      "execution_count": 0,
      "outputs": []
    },
    {
      "cell_type": "code",
      "metadata": {
        "id": "mOveA04j1Fhq",
        "colab_type": "code",
        "colab": {
          "base_uri": "https://localhost:8080/",
          "height": 34
        },
        "outputId": "a927c06a-1cfa-42b1-d971-7320d53700b3"
      },
      "source": [
        "accuracy_score(predicted,test_label)"
      ],
      "execution_count": 147,
      "outputs": [
        {
          "output_type": "execute_result",
          "data": {
            "text/plain": [
              "0.85"
            ]
          },
          "metadata": {
            "tags": []
          },
          "execution_count": 147
        }
      ]
    },
    {
      "cell_type": "markdown",
      "metadata": {
        "id": "hO40sAbG1NC8",
        "colab_type": "text"
      },
      "source": [
        "KNN Classifier\n"
      ]
    },
    {
      "cell_type": "code",
      "metadata": {
        "id": "WrUGLqh01PhF",
        "colab_type": "code",
        "colab": {}
      },
      "source": [
        "from sklearn.neighbors import KNeighborsClassifier\n",
        "kclf=KNeighborsClassifier(n_neighbors=5)"
      ],
      "execution_count": 0,
      "outputs": []
    },
    {
      "cell_type": "code",
      "metadata": {
        "id": "pyd_cl921hTe",
        "colab_type": "code",
        "colab": {}
      },
      "source": [
        "trained=kclf.fit(train_data,train_label)"
      ],
      "execution_count": 0,
      "outputs": []
    },
    {
      "cell_type": "code",
      "metadata": {
        "id": "2QExpy_52QBV",
        "colab_type": "code",
        "colab": {}
      },
      "source": [
        "predicted=trained.predict(test_data)"
      ],
      "execution_count": 0,
      "outputs": []
    },
    {
      "cell_type": "code",
      "metadata": {
        "id": "rYX5PD5p2SOx",
        "colab_type": "code",
        "colab": {
          "base_uri": "https://localhost:8080/",
          "height": 34
        },
        "outputId": "94af204e-8fbd-430b-b740-d0d7e5eb0fad"
      },
      "source": [
        "accuracy_score(predicted,test_label)"
      ],
      "execution_count": 151,
      "outputs": [
        {
          "output_type": "execute_result",
          "data": {
            "text/plain": [
              "0.14"
            ]
          },
          "metadata": {
            "tags": []
          },
          "execution_count": 151
        }
      ]
    },
    {
      "cell_type": "markdown",
      "metadata": {
        "id": "Uw63Noeb27sf",
        "colab_type": "text"
      },
      "source": [
        "ONE HOT ENCODING for KNN\n"
      ]
    },
    {
      "cell_type": "code",
      "metadata": {
        "id": "nzKZ6Xqx2_Mh",
        "colab_type": "code",
        "colab": {}
      },
      "source": [
        "from sklearn.preprocessing import OneHotEncoder"
      ],
      "execution_count": 0,
      "outputs": []
    },
    {
      "cell_type": "code",
      "metadata": {
        "id": "iwGAT_Ul3Dw5",
        "colab_type": "code",
        "colab": {}
      },
      "source": [
        "fcolumn = OneHotEncoder(categorical_features=[0])"
      ],
      "execution_count": 0,
      "outputs": []
    },
    {
      "cell_type": "code",
      "metadata": {
        "id": "Ohn60m2652AZ",
        "colab_type": "code",
        "colab": {
          "base_uri": "https://localhost:8080/",
          "height": 138
        },
        "outputId": "aeb23b58-ab0c-4212-c9ba-477b4a5324f5"
      },
      "source": [
        "features=fcolumn.fit_transform(features).toarray()"
      ],
      "execution_count": 154,
      "outputs": [
        {
          "output_type": "stream",
          "text": [
            "/usr/local/lib/python3.6/dist-packages/sklearn/preprocessing/_encoders.py:415: FutureWarning: The handling of integer data will change in version 0.22. Currently, the categories are determined based on the range [0, max(values)], while in the future they will be determined based on the unique values.\n",
            "If you want the future behaviour and silence this warning, you can specify \"categories='auto'\".\n",
            "In case you used a LabelEncoder before this OneHotEncoder to convert the categories to integers, then you can now use the OneHotEncoder directly.\n",
            "  warnings.warn(msg, FutureWarning)\n",
            "/usr/local/lib/python3.6/dist-packages/sklearn/preprocessing/_encoders.py:451: DeprecationWarning: The 'categorical_features' keyword is deprecated in version 0.20 and will be removed in 0.22. You can use the ColumnTransformer instead.\n",
            "  \"use the ColumnTransformer instead.\", DeprecationWarning)\n"
          ],
          "name": "stderr"
        }
      ]
    },
    {
      "cell_type": "code",
      "metadata": {
        "id": "DrRd0s4f9YTd",
        "colab_type": "code",
        "colab": {
          "base_uri": "https://localhost:8080/",
          "height": 134
        },
        "outputId": "8f6e4a0c-7a63-4161-9d9a-e949e89d5d7f"
      },
      "source": [
        "features"
      ],
      "execution_count": 155,
      "outputs": [
        {
          "output_type": "execute_result",
          "data": {
            "text/plain": [
              "array([[ 1.,  0.,  0., ..., 36.,  5.,  5.],\n",
              "       [ 1.,  0.,  0., ..., 55.,  3.,  5.],\n",
              "       [ 1.,  0.,  0., ..., 61.,  8.,  1.],\n",
              "       ...,\n",
              "       [ 0.,  0.,  0., ..., 49.,  9.,  7.],\n",
              "       [ 0.,  1.,  0., ..., 56.,  6.,  7.],\n",
              "       [ 0.,  0.,  1., ..., 64.,  4.,  9.]])"
            ]
          },
          "metadata": {
            "tags": []
          },
          "execution_count": 155
        }
      ]
    },
    {
      "cell_type": "code",
      "metadata": {
        "id": "rJpaK_Y7_CQJ",
        "colab_type": "code",
        "colab": {}
      },
      "source": [
        "train_data,test_data,train_label,test_label = train_test_split(features,label,test_size=0.1)"
      ],
      "execution_count": 0,
      "outputs": []
    },
    {
      "cell_type": "code",
      "metadata": {
        "id": "oKFlEn_PDT1D",
        "colab_type": "code",
        "colab": {}
      },
      "source": [
        "from sklearn.preprocessing import StandardScaler\n",
        "sc=StandardScaler()\n",
        "train_data=sc.fit_transform(train_data)\n",
        "test_data=sc.transform(test_data)"
      ],
      "execution_count": 0,
      "outputs": []
    },
    {
      "cell_type": "code",
      "metadata": {
        "id": "CSqw-ebt_iVO",
        "colab_type": "code",
        "colab": {}
      },
      "source": [
        "trained=kclf.fit(train_data,train_label)"
      ],
      "execution_count": 0,
      "outputs": []
    },
    {
      "cell_type": "code",
      "metadata": {
        "id": "oPusnxX1AUZe",
        "colab_type": "code",
        "colab": {
          "base_uri": "https://localhost:8080/",
          "height": 185
        },
        "outputId": "685f2022-5e82-461f-c24e-08b497f36856"
      },
      "source": [
        "predicted=trained.predict(test_data)\n",
        "predicted"
      ],
      "execution_count": 177,
      "outputs": [
        {
          "output_type": "execute_result",
          "data": {
            "text/plain": [
              "array([2182, 2182, 2182,  788,  894, 2182, 1137, 2182,  894,  788, 2182,\n",
              "       1369, 2182, 3577,  894, 2182, 2182,  788, 2182,  788, 2182, 2182,\n",
              "       2182, 2182, 2182, 2182, 2300, 2182, 2182, 2182, 2182, 2182, 2182,\n",
              "       2182, 1137, 2182, 2182, 2182, 2182, 2182, 2182, 3577, 2300, 2300,\n",
              "       1137, 3577, 2182, 1137, 2182, 2182,  788, 2182, 1137, 2182, 2182,\n",
              "        788, 1369, 2182, 1137, 2182, 2182,  788, 1137, 2182, 2182, 2182,\n",
              "        894,  788, 2182, 2182, 2182,  788, 2182, 2182, 2300, 2300, 2182,\n",
              "       2182, 2182, 2182,  788, 2182, 2182, 2182, 3577, 2182, 2300, 2182,\n",
              "       2182, 2182,  788, 2182, 3577, 2182, 1137,  894, 2182, 2182, 1137,\n",
              "       2300])"
            ]
          },
          "metadata": {
            "tags": []
          },
          "execution_count": 177
        }
      ]
    },
    {
      "cell_type": "code",
      "metadata": {
        "id": "Ud_ikh5xAWO3",
        "colab_type": "code",
        "colab": {
          "base_uri": "https://localhost:8080/",
          "height": 34
        },
        "outputId": "76eaa094-c80d-4656-86ca-8ab267866dfc"
      },
      "source": [
        "accuracy_score(predicted,test_label)"
      ],
      "execution_count": 178,
      "outputs": [
        {
          "output_type": "execute_result",
          "data": {
            "text/plain": [
              "0.02"
            ]
          },
          "metadata": {
            "tags": []
          },
          "execution_count": 178
        }
      ]
    },
    {
      "cell_type": "code",
      "metadata": {
        "id": "UlCkqKIlAYCD",
        "colab_type": "code",
        "colab": {}
      },
      "source": [
        ""
      ],
      "execution_count": 0,
      "outputs": []
    }
  ]
}