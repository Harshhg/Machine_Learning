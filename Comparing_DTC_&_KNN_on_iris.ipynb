{
  "nbformat": 4,
  "nbformat_minor": 0,
  "metadata": {
    "colab": {
      "name": "Comparing DTC & KNN on iris.ipynb",
      "version": "0.3.2",
      "provenance": [],
      "collapsed_sections": []
    },
    "kernelspec": {
      "name": "python3",
      "display_name": "Python 3"
    }
  },
  "cells": [
    {
      "cell_type": "code",
      "metadata": {
        "id": "-doKuptigB85",
        "colab_type": "code",
        "colab": {}
      },
      "source": [
        "# Loading IRIS data set\n",
        "from sklearn.datasets import load_iris\n",
        "import matplotlib.pyplot as plt\n",
        "from sklearn.metrics import accuracy_score   \n",
        "from sklearn.tree import DecisionTreeClassifier"
      ],
      "execution_count": 0,
      "outputs": []
    },
    {
      "cell_type": "code",
      "metadata": {
        "id": "oG-NCy-PgHXV",
        "colab_type": "code",
        "colab": {}
      },
      "source": [
        "# Loading into a variable\n",
        "iris=load_iris()"
      ],
      "execution_count": 0,
      "outputs": []
    },
    {
      "cell_type": "code",
      "metadata": {
        "id": "fW7t8rYggk7K",
        "colab_type": "code",
        "outputId": "0aff5847-21a0-4bca-88b1-649192d39d11",
        "colab": {
          "base_uri": "https://localhost:8080/",
          "height": 34
        }
      },
      "source": [
        "# Describing IRIS data internally\n",
        "dir(iris)"
      ],
      "execution_count": 7,
      "outputs": [
        {
          "output_type": "execute_result",
          "data": {
            "text/plain": [
              "['DESCR', 'data', 'feature_names', 'filename', 'target', 'target_names']"
            ]
          },
          "metadata": {
            "tags": []
          },
          "execution_count": 7
        }
      ]
    },
    {
      "cell_type": "code",
      "metadata": {
        "id": "Tm7sR2nCgnZJ",
        "colab_type": "code",
        "outputId": "d960f979-5558-4d57-8251-51da77953553",
        "colab": {
          "base_uri": "https://localhost:8080/",
          "height": 34
        }
      },
      "source": [
        "# Target Output Values\n",
        "iris.target_names"
      ],
      "execution_count": 8,
      "outputs": [
        {
          "output_type": "execute_result",
          "data": {
            "text/plain": [
              "array(['setosa', 'versicolor', 'virginica'], dtype='<U10')"
            ]
          },
          "metadata": {
            "tags": []
          },
          "execution_count": 8
        }
      ]
    },
    {
      "cell_type": "code",
      "metadata": {
        "id": "r6svq6DkgzsX",
        "colab_type": "code",
        "outputId": "8389234d-c8b2-4a9f-e072-31dc697bc96e",
        "colab": {
          "base_uri": "https://localhost:8080/",
          "height": 84
        }
      },
      "source": [
        "# Now attributes of features of given data\n",
        "iris.feature_names"
      ],
      "execution_count": 9,
      "outputs": [
        {
          "output_type": "execute_result",
          "data": {
            "text/plain": [
              "['sepal length (cm)',\n",
              " 'sepal width (cm)',\n",
              " 'petal length (cm)',\n",
              " 'petal width (cm)']"
            ]
          },
          "metadata": {
            "tags": []
          },
          "execution_count": 9
        }
      ]
    },
    {
      "cell_type": "code",
      "metadata": {
        "id": "GvS_MMRJg94D",
        "colab_type": "code",
        "colab": {}
      },
      "source": [
        "# data with attributes\n",
        "iris_features=iris.data\n",
        "iris_label=iris.target\n",
        " "
      ],
      "execution_count": 0,
      "outputs": []
    },
    {
      "cell_type": "code",
      "metadata": {
        "id": "M1FYZP5vhcpl",
        "colab_type": "code",
        "colab": {}
      },
      "source": [
        "# Separating data into Training and Testing\n",
        "from sklearn.model_selection    import train_test_split\n",
        "train_data,test_data,train_label,test_label=train_test_split(iris_features,iris_label,test_size=0.2,random_state=0)\n",
        "\n",
        "\n",
        "# To get help\n",
        "\n",
        "# help(train_test_split)"
      ],
      "execution_count": 0,
      "outputs": []
    },
    {
      "cell_type": "code",
      "metadata": {
        "id": "-MK4PW4biGLV",
        "colab_type": "code",
        "colab": {}
      },
      "source": [
        "# importing KNN classifier\n",
        "from sklearn.neighbors import KNeighborsClassifier"
      ],
      "execution_count": 0,
      "outputs": []
    },
    {
      "cell_type": "code",
      "metadata": {
        "id": "7ieno-gUkdYe",
        "colab_type": "code",
        "colab": {}
      },
      "source": [
        "# Now calling KNN\n",
        "x=[1,4,7]\n",
        "y=[2,5,8]\n",
        "kacs=[]\n",
        "dacs=[]\n",
        "for i in [3,5,7]:\n",
        "  kclf = KNeighborsClassifier(n_neighbors=i)  # n_neighbors =5 is by default value.  K value must be odd(preferred)\n",
        "  ktrained=kclf.fit(train_data,train_label)\n",
        "  kpredicted=ktrained.predict(test_data)\n",
        "  kacs.append(accuracy_score(kpredicted,test_label))\n",
        "  \n",
        "  # Decision Tree Classifier on the same\n",
        "  \n",
        "  dclf=DecisionTreeClassifier()\n",
        "  dtrained=dclf.fit(train_data,train_label)\n",
        "  dpredicted=dtrained.predict(test_data)\n",
        "  dacs.append(accuracy_score(test_label,dpredicted))\n"
      ],
      "execution_count": 0,
      "outputs": []
    },
    {
      "cell_type": "code",
      "metadata": {
        "id": "Zp2IA0X8qldZ",
        "colab_type": "code",
        "colab": {
          "base_uri": "https://localhost:8080/",
          "height": 50
        },
        "outputId": "d2cb5899-00c7-40b9-e4cb-fb8695308bc4"
      },
      "source": [
        "print(kacs)  \n",
        "print(dacs)"
      ],
      "execution_count": 14,
      "outputs": [
        {
          "output_type": "stream",
          "text": [
            "[0.9666666666666667, 0.9666666666666667, 1.0]\n",
            "[1.0, 1.0, 1.0]\n"
          ],
          "name": "stdout"
        }
      ]
    },
    {
      "cell_type": "code",
      "metadata": {
        "id": "0eTBhoYMqoAq",
        "colab_type": "code",
        "colab": {
          "base_uri": "https://localhost:8080/",
          "height": 286
        },
        "outputId": "12280d32-b722-4f3e-ef47-09818ee7f3af"
      },
      "source": [
        "plt.grid()\n",
        "plt.bar(x,kacs)\n",
        "plt.bar(y,dacs)  "
      ],
      "execution_count": 15,
      "outputs": [
        {
          "output_type": "execute_result",
          "data": {
            "text/plain": [
              "<BarContainer object of 3 artists>"
            ]
          },
          "metadata": {
            "tags": []
          },
          "execution_count": 15
        },
        {
          "output_type": "display_data",
          "data": {
            "image/png": "[encoded data removed]",
            "text/plain": [
              "<Figure size 432x288 with 1 Axes>"
            ]
          },
          "metadata": {
            "tags": []
          }
        }
      ]
    },
    {
      "cell_type": "code",
      "metadata": {
        "id": "AWuN2n5xqugy",
        "colab_type": "code",
        "colab": {}
      },
      "source": [
        ""
      ],
      "execution_count": 0,
      "outputs": []
    }
  ]
}