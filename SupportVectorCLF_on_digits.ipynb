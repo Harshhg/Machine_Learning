{
  "nbformat": 4,
  "nbformat_minor": 0,
  "metadata": {
    "colab": {
      "name": "SupportVectorCLF_on_digits.ipynb",
      "version": "0.3.2",
      "provenance": [],
      "collapsed_sections": []
    },
    "kernelspec": {
      "name": "python3",
      "display_name": "Python 3"
    }
  },
  "cells": [
    {
      "cell_type": "code",
      "metadata": {
        "id": "QxjRISNvMU6a",
        "colab_type": "code",
        "colab": {}
      },
      "source": [
        "from sklearn.datasets import load_digits"
      ],
      "execution_count": 0,
      "outputs": []
    },
    {
      "cell_type": "code",
      "metadata": {
        "id": "EE_4XXxRMZUK",
        "colab_type": "code",
        "colab": {}
      },
      "source": [
        "# Loading Digit data\n",
        "digit=load_digits()"
      ],
      "execution_count": 0,
      "outputs": []
    },
    {
      "cell_type": "code",
      "metadata": {
        "id": "r69gJn1XMdbT",
        "colab_type": "code",
        "outputId": "88830abf-58c2-4278-b198-836121587a09",
        "colab": {
          "base_uri": "https://localhost:8080/",
          "height": 33
        }
      },
      "source": [
        "dir(digit)"
      ],
      "execution_count": 0,
      "outputs": [
        {
          "output_type": "execute_result",
          "data": {
            "text/plain": [
              "['DESCR', 'data', 'images', 'target', 'target_names']"
            ]
          },
          "metadata": {
            "tags": []
          },
          "execution_count": 5
        }
      ]
    },
    {
      "cell_type": "code",
      "metadata": {
        "id": "NmYuyhOCMhZm",
        "colab_type": "code",
        "colab": {}
      },
      "source": [
        "# Fetching feature and labels\n",
        "features=digit.data\n",
        "label=digit.target"
      ],
      "execution_count": 0,
      "outputs": []
    },
    {
      "cell_type": "code",
      "metadata": {
        "id": "qFFYntHvMivU",
        "colab_type": "code",
        "colab": {}
      },
      "source": [
        "# Splitting the data into training and testing..\n",
        "from sklearn.model_selection import train_test_split\n",
        "train_data,test_data,train_label,test_label=train_test_split(features,label,test_size=0.1)"
      ],
      "execution_count": 0,
      "outputs": []
    },
    {
      "cell_type": "code",
      "metadata": {
        "id": "YHbPE13MMrK5",
        "colab_type": "code",
        "outputId": "4ceaf134-27e5-4e78-9b48-749001d4bc93",
        "colab": {
          "base_uri": "https://localhost:8080/",
          "height": 286
        }
      },
      "source": [
        "# Visualizing data\n",
        "import matplotlib.pyplot as plt\n",
        "plt.imshow(digit.images[0])"
      ],
      "execution_count": 58,
      "outputs": [
        {
          "output_type": "execute_result",
          "data": {
            "text/plain": [
              "<matplotlib.image.AxesImage at 0x7f5685530390>"
            ]
          },
          "metadata": {
            "tags": []
          },
          "execution_count": 58
        },
        {
          "output_type": "display_data",
          "data": {
            "image/png": "[encoded data removed]",
            "text/plain": [
              "<Figure size 432x288 with 1 Axes>"
            ]
          },
          "metadata": {
            "tags": []
          }
        }
      ]
    },
    {
      "cell_type": "code",
      "metadata": {
        "id": "GsHwpjWRNE6_",
        "colab_type": "code",
        "colab": {}
      },
      "source": [
        "# Now calling Support Vector Classifier (SVC)\n",
        "from sklearn.svm import SVC\n",
        "clf=SVC()"
      ],
      "execution_count": 0,
      "outputs": []
    },
    {
      "cell_type": "code",
      "metadata": {
        "id": "S4HhZUQhNkW9",
        "colab_type": "code",
        "outputId": "5c4554d3-82c1-40d5-a18d-4c31eba10264",
        "colab": {
          "base_uri": "https://localhost:8080/",
          "height": 70
        }
      },
      "source": [
        "# Training the data\n",
        "trained=clf.fit(train_data,train_label)"
      ],
      "execution_count": 60,
      "outputs": [
        {
          "output_type": "stream",
          "text": [
            "/usr/local/lib/python3.6/dist-packages/sklearn/svm/base.py:193: FutureWarning: The default value of gamma will change from 'auto' to 'scale' in version 0.22 to account better for unscaled features. Set gamma explicitly to 'auto' or 'scale' to avoid this warning.\n",
            "  \"avoid this warning.\", FutureWarning)\n"
          ],
          "name": "stderr"
        }
      ]
    },
    {
      "cell_type": "code",
      "metadata": {
        "id": "JZoSPNZ8PP9y",
        "colab_type": "code",
        "colab": {}
      },
      "source": [
        "# Predicting the output\n",
        "predicted=trained.predict(test_data)"
      ],
      "execution_count": 0,
      "outputs": []
    },
    {
      "cell_type": "code",
      "metadata": {
        "id": "VkHYu2XrPWpa",
        "colab_type": "code",
        "outputId": "1067da57-9e30-4e73-906c-bfe6cc5669f3",
        "colab": {
          "base_uri": "https://localhost:8080/",
          "height": 167
        }
      },
      "source": [
        "predicted"
      ],
      "execution_count": 62,
      "outputs": [
        {
          "output_type": "execute_result",
          "data": {
            "text/plain": [
              "array([5, 4, 5, 5, 7, 9, 5, 6, 5, 5, 5, 4, 1, 9, 1, 5, 4, 5, 5, 5, 5, 0,\n",
              "       5, 1, 5, 5, 5, 9, 9, 3, 5, 7, 5, 4, 5, 6, 5, 5, 7, 0, 0, 5, 6, 0,\n",
              "       7, 5, 5, 5, 5, 5, 5, 5, 5, 7, 5, 5, 5, 5, 5, 3, 5, 9, 4, 5, 5, 5,\n",
              "       7, 7, 4, 5, 3, 2, 3, 6, 5, 5, 5, 5, 5, 0, 5, 5, 3, 0, 9, 9, 0, 3,\n",
              "       5, 1, 5, 5, 5, 5, 1, 5, 5, 5, 3, 5, 6, 5, 5, 4, 5, 0, 5, 7, 5, 5,\n",
              "       0, 7, 5, 5, 6, 8, 5, 1, 5, 3, 5, 8, 5, 5, 5, 5, 5, 5, 2, 3, 3, 5,\n",
              "       7, 2, 8, 5, 1, 9, 5, 5, 5, 5, 5, 5, 5, 2, 3, 5, 5, 5, 5, 6, 5, 3,\n",
              "       9, 5, 4, 7, 5, 6, 5, 5, 2, 6, 5, 5, 5, 5, 5, 5, 5, 5, 7, 5, 5, 5,\n",
              "       6, 0, 2, 5])"
            ]
          },
          "metadata": {
            "tags": []
          },
          "execution_count": 62
        }
      ]
    },
    {
      "cell_type": "code",
      "metadata": {
        "id": "5p89RjeEPXsm",
        "colab_type": "code",
        "outputId": "e3a662b8-c954-468f-8d1b-22c3c2ff9add",
        "colab": {
          "base_uri": "https://localhost:8080/",
          "height": 167
        }
      },
      "source": [
        "test_label"
      ],
      "execution_count": 63,
      "outputs": [
        {
          "output_type": "execute_result",
          "data": {
            "text/plain": [
              "array([1, 4, 6, 2, 7, 9, 2, 6, 9, 2, 9, 4, 1, 9, 1, 9, 4, 9, 3, 2, 3, 0,\n",
              "       9, 1, 4, 8, 0, 9, 9, 3, 0, 7, 2, 4, 4, 6, 2, 4, 7, 0, 0, 3, 6, 0,\n",
              "       7, 5, 4, 8, 5, 2, 3, 3, 4, 7, 1, 9, 4, 3, 9, 3, 5, 9, 4, 5, 5, 4,\n",
              "       7, 7, 4, 1, 3, 2, 3, 6, 4, 2, 9, 0, 9, 0, 1, 2, 3, 0, 9, 9, 0, 3,\n",
              "       4, 1, 6, 2, 3, 9, 1, 2, 3, 8, 3, 2, 6, 6, 5, 4, 1, 0, 8, 7, 5, 5,\n",
              "       0, 7, 5, 4, 6, 8, 7, 1, 3, 3, 2, 8, 4, 3, 5, 2, 8, 5, 2, 3, 3, 2,\n",
              "       7, 2, 8, 8, 1, 9, 8, 9, 0, 5, 8, 8, 2, 2, 3, 1, 2, 5, 3, 6, 9, 3,\n",
              "       9, 5, 4, 7, 5, 6, 6, 3, 2, 6, 6, 3, 5, 4, 8, 2, 4, 3, 7, 5, 3, 0,\n",
              "       6, 0, 2, 1])"
            ]
          },
          "metadata": {
            "tags": []
          },
          "execution_count": 63
        }
      ]
    },
    {
      "cell_type": "code",
      "metadata": {
        "id": "fooKx--FPaSN",
        "colab_type": "code",
        "outputId": "7329ab64-7d45-4df4-eecd-1ae470c5d93f",
        "colab": {
          "base_uri": "https://localhost:8080/",
          "height": 33
        }
      },
      "source": [
        "from sklearn.metrics import accuracy_score\n",
        "accuracy_score(predicted,test_label)"
      ],
      "execution_count": 64,
      "outputs": [
        {
          "output_type": "execute_result",
          "data": {
            "text/plain": [
              "0.5222222222222223"
            ]
          },
          "metadata": {
            "tags": []
          },
          "execution_count": 64
        }
      ]
    },
    {
      "cell_type": "code",
      "metadata": {
        "id": "7AHvJsi0PgJV",
        "colab_type": "code",
        "colab": {}
      },
      "source": [
        ""
      ],
      "execution_count": 0,
      "outputs": []
    }
  ]
}