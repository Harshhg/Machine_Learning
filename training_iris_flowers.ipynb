{
  "nbformat": 4,
  "nbformat_minor": 0,
  "metadata": {
    "colab": {
      "name": "training_iris_flowers.ipynb",
      "version": "0.3.2",
      "provenance": [],
      "collapsed_sections": []
    },
    "kernelspec": {
      "name": "python3",
      "display_name": "Python 3"
    }
  },
  "cells": [
    {
      "cell_type": "code",
      "metadata": {
        "id": "kP50D1GepTbU",
        "colab_type": "code",
        "colab": {}
      },
      "source": [
        "from sklearn.datasets import load_iris              # Loading the IRIS flower datasets\n",
        "import matplotlib.pyplot as plt                     # Graph plotting library\n",
        "from sklearn.tree import DecisionTreeClassifier     # Calling DecisionTreeClassifier Algorithm for training\n",
        "from sklearn.metrics import accuracy_score         # To find the accuracy score"
      ],
      "execution_count": 0,
      "outputs": []
    },
    {
      "cell_type": "code",
      "metadata": {
        "id": "vyxjhGgGpcB-",
        "colab_type": "code",
        "colab": {}
      },
      "source": [
        "# Now loading IRIS data only..\n",
        "iris = load_iris()\n",
        "\n",
        "# First 50 - setosa\n",
        "# 50-100 - versicolor\n",
        "# 100-150 - virginica"
      ],
      "execution_count": 0,
      "outputs": []
    },
    {
      "cell_type": "code",
      "metadata": {
        "id": "C_xssWg7phSL",
        "colab_type": "code",
        "colab": {
          "base_uri": "https://localhost:8080/",
          "height": 34
        },
        "outputId": "e4180b40-cd1a-4270-c1da-7993c197a140"
      },
      "source": [
        "dir(iris)"
      ],
      "execution_count": 22,
      "outputs": [
        {
          "output_type": "execute_result",
          "data": {
            "text/plain": [
              "['DESCR', 'data', 'feature_names', 'filename', 'target', 'target_names']"
            ]
          },
          "metadata": {
            "tags": []
          },
          "execution_count": 22
        }
      ]
    },
    {
      "cell_type": "code",
      "metadata": {
        "id": "lzAf2ycWptgo",
        "colab_type": "code",
        "colab": {
          "base_uri": "https://localhost:8080/",
          "height": 84
        },
        "outputId": "08ff32c7-b5e1-4131-8749-7e88cde80d81"
      },
      "source": [
        "#print(iris.DESCR)   # description of  IRIS DATASET\n",
        "iris.feature_names"
      ],
      "execution_count": 23,
      "outputs": [
        {
          "output_type": "execute_result",
          "data": {
            "text/plain": [
              "['sepal length (cm)',\n",
              " 'sepal width (cm)',\n",
              " 'petal length (cm)',\n",
              " 'petal width (cm)']"
            ]
          },
          "metadata": {
            "tags": []
          },
          "execution_count": 23
        }
      ]
    },
    {
      "cell_type": "code",
      "metadata": {
        "id": "R2ZWY42up5Ic",
        "colab_type": "code",
        "colab": {
          "base_uri": "https://localhost:8080/",
          "height": 34
        },
        "outputId": "71fc1c15-c09b-4635-e4cc-fc38ed0355f2"
      },
      "source": [
        "# Labels and answers \n",
        "print(iris.target_names)"
      ],
      "execution_count": 24,
      "outputs": [
        {
          "output_type": "stream",
          "text": [
            "['setosa' 'versicolor' 'virginica']\n"
          ],
          "name": "stdout"
        }
      ]
    },
    {
      "cell_type": "code",
      "metadata": {
        "id": "p8V9_BYDqVNA",
        "colab_type": "code",
        "colab": {
          "base_uri": "https://localhost:8080/",
          "height": 34
        },
        "outputId": "ff29f34f-c7f6-4ea4-ae15-149abae81139"
      },
      "source": [
        "# Actual data with attribue \n",
        "features=iris.data\n",
        "print(features.shape)"
      ],
      "execution_count": 25,
      "outputs": [
        {
          "output_type": "stream",
          "text": [
            "(150, 4)\n"
          ],
          "name": "stdout"
        }
      ]
    },
    {
      "cell_type": "code",
      "metadata": {
        "id": "f6Ukhf6srBPe",
        "colab_type": "code",
        "colab": {
          "base_uri": "https://localhost:8080/",
          "height": 34
        },
        "outputId": "df5f338a-6a55-4d20-8c46-59eac964f93f"
      },
      "source": [
        "type(features)  #  It is a numpy array"
      ],
      "execution_count": 26,
      "outputs": [
        {
          "output_type": "execute_result",
          "data": {
            "text/plain": [
              "numpy.ndarray"
            ]
          },
          "metadata": {
            "tags": []
          },
          "execution_count": 26
        }
      ]
    },
    {
      "cell_type": "code",
      "metadata": {
        "id": "8N3hpgnMrdrg",
        "colab_type": "code",
        "colab": {
          "base_uri": "https://localhost:8080/",
          "height": 101
        },
        "outputId": "ac50b535-f540-47cd-d677-5a746e6271b7"
      },
      "source": [
        "# Now time for label data that will be exactly same as number of feature data\n",
        "label=iris.target\n",
        "print(label)\n",
        "\n",
        "# Here - \n",
        "# 0 - setosa\n",
        "# 1 - versicolor\n",
        "# 2 - virginica#"
      ],
      "execution_count": 27,
      "outputs": [
        {
          "output_type": "stream",
          "text": [
            "[0 0 0 0 0 0 0 0 0 0 0 0 0 0 0 0 0 0 0 0 0 0 0 0 0 0 0 0 0 0 0 0 0 0 0 0 0\n",
            " 0 0 0 0 0 0 0 0 0 0 0 0 0 1 1 1 1 1 1 1 1 1 1 1 1 1 1 1 1 1 1 1 1 1 1 1 1\n",
            " 1 1 1 1 1 1 1 1 1 1 1 1 1 1 1 1 1 1 1 1 1 1 1 1 1 1 2 2 2 2 2 2 2 2 2 2 2\n",
            " 2 2 2 2 2 2 2 2 2 2 2 2 2 2 2 2 2 2 2 2 2 2 2 2 2 2 2 2 2 2 2 2 2 2 2 2 2\n",
            " 2 2]\n"
          ],
          "name": "stdout"
        }
      ]
    },
    {
      "cell_type": "code",
      "metadata": {
        "id": "eXXjAdZ9sGdu",
        "colab_type": "code",
        "colab": {}
      },
      "source": [
        "sepal_length=features[0:,0]\n",
        "sepal_width=features[0:,1]\n",
        "petal_length=features[0:,2]\n",
        "petal_width=features[0:,3]"
      ],
      "execution_count": 0,
      "outputs": []
    },
    {
      "cell_type": "code",
      "metadata": {
        "id": "Z6VDsUxttT3m",
        "colab_type": "code",
        "colab": {
          "base_uri": "https://localhost:8080/",
          "height": 284
        },
        "outputId": "adf2020a-82cd-4e1d-bafe-bef9af6f5707"
      },
      "source": [
        "plt.xlabel(\"Sepal_Length\")\n",
        "plt.ylabel(\"Sepal_Width\")\n",
        "plt.scatter(sepal_length,sepal_width,label=\"Sepal Data\")\n",
        "plt.scatter(petal_length,petal_width, label=\"Petal Data\",marker='x')\n",
        "plt.legend()\n",
        "plt.show()"
      ],
      "execution_count": 29,
      "outputs": [
        {
          "output_type": "display_data",
          "data": {
            "image/png": "[encoded data removed]",
            "text/plain": [
              "<Figure size 432x288 with 1 Axes>"
            ]
          },
          "metadata": {
            "tags": []
          }
        }
      ]
    },
    {
      "cell_type": "code",
      "metadata": {
        "id": "sG6K_CwltpkQ",
        "colab_type": "code",
        "colab": {}
      },
      "source": [
        "# Now time for separting data into 2 categories...\n",
        "# 1st category - Training Data\n",
        "# 2nd category - Testing data ( for questions )\n",
        "# Scikit learn library for doing this is -\n",
        "\n",
        "from sklearn.model_selection import train_test_split\n",
        "train_data,test_data,label_train,label_test = train_test_split(features,label, test_size=0.1)  # Separting test data .. test_size = 0.1 = 10% data...range (0-1)\n",
        "\n",
        "# it separates data in 4 parts :\n",
        "# 1. train_data = 90% of Actual data/(features) for TRAINING  -- *** --- We will pass this data to classifier\n",
        "# 2. test_data =  10% of Actual data(features) for testing\n",
        "# 3. label_train = 90% of the Answer(labels) for TRAINING  -- *** ---  We will pass this data to classifier\n",
        "# 4. label_test = 10% of the Answer(labels) for testing\n"
      ],
      "execution_count": 0,
      "outputs": []
    },
    {
      "cell_type": "code",
      "metadata": {
        "id": "G86JLL0Yygat",
        "colab_type": "code",
        "colab": {}
      },
      "source": [
        "# -- LIBRARY-- from sklearn.tree import DecisionTreeClassifier \n",
        "\n",
        "# Calling Decision Tree classifier \n",
        "clf=DecisionTreeClassifier()"
      ],
      "execution_count": 0,
      "outputs": []
    },
    {
      "cell_type": "code",
      "metadata": {
        "id": "aun1oHnAzh7c",
        "colab_type": "code",
        "colab": {}
      },
      "source": [
        "# Now time for Training classifier \n",
        "trained = clf.fit(train_data,label_train)  # Passing 90% of the training data.."
      ],
      "execution_count": 0,
      "outputs": []
    },
    {
      "cell_type": "code",
      "metadata": {
        "id": "1ZDc8kEF0SlL",
        "colab_type": "code",
        "colab": {}
      },
      "source": [
        "# Now predicting Flowers ..\n",
        "predicted_flowers=trained.predict(test_data)"
      ],
      "execution_count": 0,
      "outputs": []
    },
    {
      "cell_type": "code",
      "metadata": {
        "id": "rRs0LOjh0tTZ",
        "colab_type": "code",
        "colab": {
          "base_uri": "https://localhost:8080/",
          "height": 34
        },
        "outputId": "88b860ae-7e72-44c4-a6b5-f19ff768acfb"
      },
      "source": [
        "predicted_flowers # Answer of the algorithm that machine gives"
      ],
      "execution_count": 110,
      "outputs": [
        {
          "output_type": "execute_result",
          "data": {
            "text/plain": [
              "array([0, 2, 1, 0, 2, 2, 0, 1, 2, 1, 0, 2, 2, 2, 1])"
            ]
          },
          "metadata": {
            "tags": []
          },
          "execution_count": 110
        }
      ]
    },
    {
      "cell_type": "code",
      "metadata": {
        "id": "jZ0rlJbz1GL1",
        "colab_type": "code",
        "colab": {
          "base_uri": "https://localhost:8080/",
          "height": 34
        },
        "outputId": "a83b9844-5464-4aa1-91c6-bd3a9b02ed7a"
      },
      "source": [
        "label_test  # Actual answer of the data passed to the machine"
      ],
      "execution_count": 111,
      "outputs": [
        {
          "output_type": "execute_result",
          "data": {
            "text/plain": [
              "array([0, 2, 1, 0, 2, 2, 0, 1, 2, 1, 0, 2, 1, 2, 1])"
            ]
          },
          "metadata": {
            "tags": []
          },
          "execution_count": 111
        }
      ]
    },
    {
      "cell_type": "code",
      "metadata": {
        "id": "XJm5ythV1KNy",
        "colab_type": "code",
        "colab": {
          "base_uri": "https://localhost:8080/",
          "height": 34
        },
        "outputId": "6ea5d960-3f0d-45f5-cbab-f1e1294c657b"
      },
      "source": [
        "# -- LIBRARY-- from sklearn.metrics import accuracy_score \n",
        "\n",
        "# To find the accuracy score of the output- \n",
        "accuracy_score(label_test,predicted_flowers)"
      ],
      "execution_count": 112,
      "outputs": [
        {
          "output_type": "execute_result",
          "data": {
            "text/plain": [
              "0.9333333333333333"
            ]
          },
          "metadata": {
            "tags": []
          },
          "execution_count": 112
        }
      ]
    },
    {
      "cell_type": "code",
      "metadata": {
        "id": "0JfNWipx2IKM",
        "colab_type": "code",
        "colab": {
          "base_uri": "https://localhost:8080/",
          "height": 286
        },
        "outputId": "b24f257e-a0eb-4a58-b992-9d7304286ef2"
      },
      "source": [
        "plt.plot(predicted_flowers,label_test)"
      ],
      "execution_count": 113,
      "outputs": [
        {
          "output_type": "execute_result",
          "data": {
            "text/plain": [
              "[<matplotlib.lines.Line2D at 0x7f6abf469908>]"
            ]
          },
          "metadata": {
            "tags": []
          },
          "execution_count": 113
        },
        {
          "output_type": "display_data",
          "data": {
            "image/png": "[encoded data removed]",
            "text/plain": [
              "<Figure size 432x288 with 1 Axes>"
            ]
          },
          "metadata": {
            "tags": []
          }
        }
      ]
    },
    {
      "cell_type": "code",
      "metadata": {
        "id": "_i1HXQ0RaHOp",
        "colab_type": "code",
        "colab": {}
      },
      "source": [
        ""
      ],
      "execution_count": 0,
      "outputs": []
    }
  ]
}