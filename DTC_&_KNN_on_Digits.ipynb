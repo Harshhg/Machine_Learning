{
  "nbformat": 4,
  "nbformat_minor": 0,
  "metadata": {
    "colab": {
      "name": "DTC_&_KNN_on_Digits.ipynb",
      "version": "0.3.2",
      "provenance": [],
      "collapsed_sections": []
    },
    "kernelspec": {
      "name": "python3",
      "display_name": "Python 3"
    }
  },
  "cells": [
    {
      "cell_type": "code",
      "metadata": {
        "id": "McilgKYbzc8Z",
        "colab_type": "code",
        "colab": {}
      },
      "source": [
        "# importing Digits data\n",
        "from sklearn.datasets import load_digits\n",
        "import matplotlib.pyplot as plt\n",
        "from sklearn.model_selection import train_test_split\n",
        "from sklearn.metrics import accuracy_score"
      ],
      "execution_count": 0,
      "outputs": []
    },
    {
      "cell_type": "code",
      "metadata": {
        "id": "LmOiA8jn0Hfm",
        "colab_type": "code",
        "colab": {}
      },
      "source": [
        "# Loading Digit Dataset\n",
        "digit_data=load_digits()"
      ],
      "execution_count": 0,
      "outputs": []
    },
    {
      "cell_type": "code",
      "metadata": {
        "id": "CydDpFIY0Q9e",
        "colab_type": "code",
        "outputId": "9b1241cc-3f34-4c66-d619-61db87159a5e",
        "colab": {
          "base_uri": "https://localhost:8080/",
          "height": 34
        }
      },
      "source": [
        "# Fetching information of Digit Dataset\n",
        "dir(digit_data)"
      ],
      "execution_count": 0,
      "outputs": [
        {
          "output_type": "execute_result",
          "data": {
            "text/plain": [
              "['DESCR', 'data', 'images', 'target', 'target_names']"
            ]
          },
          "metadata": {
            "tags": []
          },
          "execution_count": 245
        }
      ]
    },
    {
      "cell_type": "code",
      "metadata": {
        "id": "Ev6X_N2Q0Xst",
        "colab_type": "code",
        "outputId": "f53e543f-6336-42db-d4d4-3a8d6a8bcea4",
        "colab": {
          "base_uri": "https://localhost:8080/",
          "height": 34
        }
      },
      "source": [
        "# Training data\n",
        "features=digit_data.data\n",
        "features.shape  # Getting Rows and Columns"
      ],
      "execution_count": 0,
      "outputs": [
        {
          "output_type": "execute_result",
          "data": {
            "text/plain": [
              "(1797, 64)"
            ]
          },
          "metadata": {
            "tags": []
          },
          "execution_count": 246
        }
      ]
    },
    {
      "cell_type": "code",
      "metadata": {
        "id": "TLlfa5MH0unU",
        "colab_type": "code",
        "outputId": "b83b2980-5ba6-4587-cf74-16d327e451e6",
        "colab": {
          "base_uri": "https://localhost:8080/",
          "height": 34
        }
      },
      "source": [
        "# Answer to Data\n",
        "label=digit_data.target   # Answers of the training data\n",
        "label.shape  # Getting Rows and Columns\n",
        "label"
      ],
      "execution_count": 0,
      "outputs": [
        {
          "output_type": "execute_result",
          "data": {
            "text/plain": [
              "array([0, 1, 2, ..., 8, 9, 8])"
            ]
          },
          "metadata": {
            "tags": []
          },
          "execution_count": 247
        }
      ]
    },
    {
      "cell_type": "code",
      "metadata": {
        "id": "VqrUIHFr1HBi",
        "colab_type": "code",
        "outputId": "fbce3ac9-9e2a-4e9b-eadd-bcc45c3e8ca6",
        "colab": {
          "base_uri": "https://localhost:8080/",
          "height": 153
        }
      },
      "source": [
        "# Images data stored in dataset\n",
        "images=digit_data.images  \n",
        "images[0]  # Data of the image '0'. ex- images[5] - data of the image '5'"
      ],
      "execution_count": 0,
      "outputs": [
        {
          "output_type": "execute_result",
          "data": {
            "text/plain": [
              "array([[ 0.,  0.,  5., 13.,  9.,  1.,  0.,  0.],\n",
              "       [ 0.,  0., 13., 15., 10., 15.,  5.,  0.],\n",
              "       [ 0.,  3., 15.,  2.,  0., 11.,  8.,  0.],\n",
              "       [ 0.,  4., 12.,  0.,  0.,  8.,  8.,  0.],\n",
              "       [ 0.,  5.,  8.,  0.,  0.,  9.,  8.,  0.],\n",
              "       [ 0.,  4., 11.,  0.,  1., 12.,  7.,  0.],\n",
              "       [ 0.,  2., 14.,  5., 10., 12.,  0.,  0.],\n",
              "       [ 0.,  0.,  6., 13., 10.,  0.,  0.,  0.]])"
            ]
          },
          "metadata": {
            "tags": []
          },
          "execution_count": 248
        }
      ]
    },
    {
      "cell_type": "code",
      "metadata": {
        "id": "ir-W3X6J1siU",
        "colab_type": "code",
        "outputId": "7495e0eb-cfad-481f-b698-1c5349e04f79",
        "colab": {
          "base_uri": "https://localhost:8080/",
          "height": 286
        }
      },
      "source": [
        "# Visualizing the image data...\n",
        "plt.imshow(images[4])   # this is how the number '4' image data looks like."
      ],
      "execution_count": 0,
      "outputs": [
        {
          "output_type": "execute_result",
          "data": {
            "text/plain": [
              "<matplotlib.image.AxesImage at 0x7f1b99502080>"
            ]
          },
          "metadata": {
            "tags": []
          },
          "execution_count": 249
        },
        {
          "output_type": "display_data",
          "data": {
            "image/png": "[encoded data removed]",
            "text/plain": [
              "<Figure size 432x288 with 1 Axes>"
            ]
          },
          "metadata": {
            "tags": []
          }
        }
      ]
    },
    {
      "cell_type": "code",
      "metadata": {
        "id": "NKT3bX0w1-JW",
        "colab_type": "code",
        "colab": {}
      },
      "source": [
        "# Splitting the data..\n",
        "train_data,test_data,train_label,test_label = train_test_split(features,label,test_size=0.1)\n"
      ],
      "execution_count": 0,
      "outputs": []
    },
    {
      "cell_type": "markdown",
      "metadata": {
        "id": "GQ23bg4lIMUL",
        "colab_type": "text"
      },
      "source": [
        "\n",
        "***Applying Decision Tree Classifier*** \n"
      ]
    },
    {
      "cell_type": "code",
      "metadata": {
        "id": "eb--thIW7cJK",
        "colab_type": "code",
        "colab": {}
      },
      "source": [
        "# Calling the Decision Tree Classifier\n",
        "from sklearn.tree import DecisionTreeClassifier\n",
        "clf=DecisionTreeClassifier()"
      ],
      "execution_count": 0,
      "outputs": []
    },
    {
      "cell_type": "code",
      "metadata": {
        "id": "RtSTEHRm7qSk",
        "colab_type": "code",
        "colab": {}
      },
      "source": [
        "# Training the data\n",
        "trained=clf.fit(train_data,train_label)"
      ],
      "execution_count": 0,
      "outputs": []
    },
    {
      "cell_type": "code",
      "metadata": {
        "id": "UGFEmgDl70X8",
        "colab_type": "code",
        "colab": {}
      },
      "source": [
        "# Predicting the Data\n",
        "dtcpredicted=trained.predict(test_data)"
      ],
      "execution_count": 0,
      "outputs": []
    },
    {
      "cell_type": "code",
      "metadata": {
        "id": "3Mxk1-Ze78Ks",
        "colab_type": "code",
        "outputId": "018520c7-6176-485b-d2d9-cee1da4746cd",
        "colab": {
          "base_uri": "https://localhost:8080/",
          "height": 34
        }
      },
      "source": [
        "# Calculating the accuracy score\n",
        "dtc=accuracy_score(dtcpredicted,test_label)\n",
        "dtc"
      ],
      "execution_count": 0,
      "outputs": [
        {
          "output_type": "execute_result",
          "data": {
            "text/plain": [
              "0.8888888888888888"
            ]
          },
          "metadata": {
            "tags": []
          },
          "execution_count": 254
        }
      ]
    },
    {
      "cell_type": "markdown",
      "metadata": {
        "id": "mlvxJi7HIifC",
        "colab_type": "text"
      },
      "source": [
        "Applying KNN Classifier "
      ]
    },
    {
      "cell_type": "code",
      "metadata": {
        "id": "0QDRImLk8Dl8",
        "colab_type": "code",
        "colab": {}
      },
      "source": [
        "# Now applying KNN Classifier on the same dataset\n",
        "from sklearn.neighbors import KNeighborsClassifier\n",
        "kclf=KNeighborsClassifier(n_neighbors=5)"
      ],
      "execution_count": 0,
      "outputs": []
    },
    {
      "cell_type": "code",
      "metadata": {
        "id": "M_f2sQS6BiCb",
        "colab_type": "code",
        "colab": {}
      },
      "source": [
        "# Now Training the data\n",
        "ktrained=kclf.fit(train_data,train_label)"
      ],
      "execution_count": 0,
      "outputs": []
    },
    {
      "cell_type": "code",
      "metadata": {
        "id": "wYYBr4lwBttI",
        "colab_type": "code",
        "colab": {}
      },
      "source": [
        "# Now predicting\n",
        "kpredicted=ktrained.predict(test_data)"
      ],
      "execution_count": 0,
      "outputs": []
    },
    {
      "cell_type": "code",
      "metadata": {
        "id": "VcLmCDVDB7X4",
        "colab_type": "code",
        "outputId": "f19b0cbc-5b0e-4ee9-94c7-89a918a5a4aa",
        "colab": {
          "base_uri": "https://localhost:8080/",
          "height": 34
        }
      },
      "source": [
        "# Calculating the Accuracy Score\n",
        "knnc=accuracy_score(kpredicted,test_label)\n",
        "knnc"
      ],
      "execution_count": 0,
      "outputs": [
        {
          "output_type": "execute_result",
          "data": {
            "text/plain": [
              "0.9833333333333333"
            ]
          },
          "metadata": {
            "tags": []
          },
          "execution_count": 258
        }
      ]
    },
    {
      "cell_type": "code",
      "metadata": {
        "id": "Qx0uzAsSB-mb",
        "colab_type": "code",
        "outputId": "8b1dc968-ff8b-445d-d75e-ac7b131b153d",
        "colab": {
          "base_uri": "https://localhost:8080/",
          "height": 286
        }
      },
      "source": [
        "# Visualizing the accuracy score of both Classifiers\n",
        "plt.ylabel(\"Accuracy Level\")\n",
        "plt.xlim(0,4)\n",
        "plt.bar([1],[knnc], label=\"KNN Accuracy\")\n",
        "plt.bar([2],[dtc],label=\"DecisionTree Accuracy\")\n",
        "plt.grid()\n",
        "plt.legend()\n"
      ],
      "execution_count": 0,
      "outputs": [
        {
          "output_type": "execute_result",
          "data": {
            "text/plain": [
              "<matplotlib.legend.Legend at 0x7f1b98d92a90>"
            ]
          },
          "metadata": {
            "tags": []
          },
          "execution_count": 259
        },
        {
          "output_type": "display_data",
          "data": {
            "image/png": "[encoded data removed]",
            "text/plain": [
              "<Figure size 432x288 with 1 Axes>"
            ]
          },
          "metadata": {
            "tags": []
          }
        }
      ]
    },
    {
      "cell_type": "code",
      "metadata": {
        "id": "k6yuLPYZCHjZ",
        "colab_type": "code",
        "colab": {}
      },
      "source": [
        ""
      ],
      "execution_count": 0,
      "outputs": []
    }
  ]
}